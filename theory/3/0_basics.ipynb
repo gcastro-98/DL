{
  "cells": [
    {
      "cell_type": "markdown",
      "metadata": {
        "id": "5rmpybwysXGV"
      },
      "source": [
        "##### Copyright 2020 The TensorFlow Authors."
      ]
    },
    {
      "cell_type": "code",
      "execution_count": null,
      "metadata": {
        "id": "m8y3rGtQsYP2"
      },
      "outputs": [],
      "source": [
        "#@title Licensed under the Apache License, Version 2.0 (the \"License\");\n",
        "# you may not use this file except in compliance with the License.\n",
        "# You may obtain a copy of the License at\n",
        "#\n",
        "# https://www.apache.org/licenses/LICENSE-2.0\n",
        "#\n",
        "# Unless required by applicable law or agreed to in writing, software\n",
        "# distributed under the License is distributed on an \"AS IS\" BASIS,\n",
        "# WITHOUT WARRANTIES OR CONDITIONS OF ANY KIND, either express or implied.\n",
        "# See the License for the specific language governing permissions and\n",
        "# limitations under the License."
      ]
    },
    {
      "cell_type": "markdown",
      "metadata": {
        "id": "hrXv0rU9sIma"
      },
      "source": [
        "# TensorFlow basics"
      ]
    },
    {
      "cell_type": "markdown",
      "metadata": {
        "id": "iJyZUDbzBTIG"
      },
      "source": [
        "This guide provides a quick overview of _TensorFlow basics_. Each section of this doc is an overview of a larger topic—you can find links to full guides at the end of each section.\n",
        "\n",
        "TensorFlow is an end-to-end platform for machine learning. It supports the following:\n",
        "\n",
        "* Multidimensional-array based numeric computation (similar to <a href=\"https://numpy.org/\" class=\"external\">NumPy</a>.)\n",
        "* GPU and distributed processing\n",
        "* Automatic differentiation\n",
        "* Model construction, training, and export\n",
        "* And more"
      ]
    },
    {
      "cell_type": "markdown",
      "metadata": {
        "id": "gvLegMMvBZYg"
      },
      "source": [
        "## Tensors\n",
        "\n",
        "![scalar-vector-matrix-tensor.jpg](data:image/jpeg;base64,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)\n",
        "\n",
        "TensorFlow operates on multidimensional arrays or _tensors_ represented as `tf.Tensor` objects. Here is a two-dimensional tensor:"
      ]
    },
    {
      "cell_type": "code",
      "execution_count": 1,
      "metadata": {
        "id": "6ZqX5RnbBS1f",
        "outputId": "25414d18-11aa-4728-d38a-ba24f079c4b8",
        "colab": {
          "base_uri": "https://localhost:8080/"
        }
      },
      "outputs": [
        {
          "output_type": "stream",
          "name": "stdout",
          "text": [
            "tf.Tensor(\n",
            "[[1. 2. 3.]\n",
            " [4. 5. 6.]], shape=(2, 3), dtype=float32)\n",
            "(2, 3)\n",
            "<dtype: 'float32'>\n"
          ]
        }
      ],
      "source": [
        "import tensorflow as tf\n",
        "\n",
        "x = tf.constant([[1., 2., 3.],\n",
        "                 [4., 5., 6.]])\n",
        "\n",
        "print(x)\n",
        "print(x.shape)\n",
        "print(x.dtype)"
      ]
    },
    {
      "cell_type": "code",
      "source": [
        "x = tf.constant(1)\n",
        "\n",
        "print(x)\n",
        "print(x.shape)\n",
        "print(x.dtype)"
      ],
      "metadata": {
        "colab": {
          "base_uri": "https://localhost:8080/"
        },
        "id": "EQevYFSBximB",
        "outputId": "99f135ba-2049-4c14-fca9-2e5195a4d60b"
      },
      "execution_count": null,
      "outputs": [
        {
          "output_type": "stream",
          "name": "stdout",
          "text": [
            "tf.Tensor(1, shape=(), dtype=int32)\n",
            "()\n",
            "<dtype: 'int32'>\n"
          ]
        }
      ]
    },
    {
      "cell_type": "code",
      "source": [
        "x = tf.constant([[[1., 2., 3.], [1., 2., 3.], [1., 2., 3.]],\n",
        "                 [[4., 5., 6.], [4., 5., 6.], [4., 5., 6.]]])\n",
        "\n",
        "print(x)\n",
        "print(x.shape)\n",
        "print(x.dtype)"
      ],
      "metadata": {
        "colab": {
          "base_uri": "https://localhost:8080/"
        },
        "id": "CWmib8JSxrOR",
        "outputId": "11c31b19-6310-4ec6-a4d8-c4c4ae35c00d"
      },
      "execution_count": null,
      "outputs": [
        {
          "output_type": "stream",
          "name": "stdout",
          "text": [
            "tf.Tensor(\n",
            "[[[1. 2. 3.]\n",
            "  [1. 2. 3.]\n",
            "  [1. 2. 3.]]\n",
            "\n",
            " [[4. 5. 6.]\n",
            "  [4. 5. 6.]\n",
            "  [4. 5. 6.]]], shape=(2, 3, 3), dtype=float32)\n",
            "(2, 3, 3)\n",
            "<dtype: 'float32'>\n"
          ]
        }
      ]
    },
    {
      "cell_type": "markdown",
      "metadata": {
        "id": "k-AOMqevQGN4"
      },
      "source": [
        "The most important attributes of a `tf.Tensor` are its `shape` and `dtype`:\n",
        "\n",
        "* `Tensor.shape`: tells you the size of the tensor along each of its axes.\n",
        "* `Tensor.dtype`: tells you the type of all the elements in the tensor."
      ]
    },
    {
      "cell_type": "markdown",
      "metadata": {
        "id": "bUkKeNWZCIJO"
      },
      "source": [
        "TensorFlow implements standard mathematical operations on tensors, as well as many operations specialized for machine learning.\n",
        "\n",
        "For example:"
      ]
    },
    {
      "cell_type": "code",
      "execution_count": null,
      "metadata": {
        "id": "BM7xXNDsBfN5",
        "outputId": "52a2bce2-3933-4347-f413-ae5994571d75",
        "colab": {
          "base_uri": "https://localhost:8080/"
        }
      },
      "outputs": [
        {
          "output_type": "execute_result",
          "data": {
            "text/plain": [
              "<tf.Tensor: shape=(2, 3), dtype=float32, numpy=\n",
              "array([[ 2.,  4.,  6.],\n",
              "       [ 8., 10., 12.]], dtype=float32)>"
            ]
          },
          "metadata": {},
          "execution_count": 47
        }
      ],
      "source": [
        "x = tf.constant([[1., 2., 3.],\n",
        "                 [4., 5., 6.]])\n",
        "\n",
        "x + x"
      ]
    },
    {
      "cell_type": "code",
      "execution_count": null,
      "metadata": {
        "id": "ZLGqscTxB61v",
        "outputId": "89d7245b-cbfb-405f-bfbe-22aa07c907da",
        "colab": {
          "base_uri": "https://localhost:8080/"
        }
      },
      "outputs": [
        {
          "output_type": "execute_result",
          "data": {
            "text/plain": [
              "<tf.Tensor: shape=(2, 3), dtype=float32, numpy=\n",
              "array([[ 5., 10., 15.],\n",
              "       [20., 25., 30.]], dtype=float32)>"
            ]
          },
          "metadata": {},
          "execution_count": 48
        }
      ],
      "source": [
        "5 * x"
      ]
    },
    {
      "cell_type": "code",
      "execution_count": null,
      "metadata": {
        "id": "2ImJHd8VfnWq",
        "outputId": "bb9c98dd-b2f2-408a-9d71-cb4cf58d75f6",
        "colab": {
          "base_uri": "https://localhost:8080/"
        }
      },
      "outputs": [
        {
          "output_type": "execute_result",
          "data": {
            "text/plain": [
              "<tf.Tensor: shape=(2, 2), dtype=float32, numpy=\n",
              "array([[14., 32.],\n",
              "       [32., 77.]], dtype=float32)>"
            ]
          },
          "metadata": {},
          "execution_count": 49
        }
      ],
      "source": [
        "x @ tf.transpose(x)"
      ]
    },
    {
      "cell_type": "code",
      "source": [
        "tf.matmul(x,tf.transpose(x))"
      ],
      "metadata": {
        "id": "0_fNMH5WDO0t",
        "outputId": "184e7311-bfd4-485e-a8cb-b8e803f26dbd",
        "colab": {
          "base_uri": "https://localhost:8080/"
        }
      },
      "execution_count": null,
      "outputs": [
        {
          "output_type": "execute_result",
          "data": {
            "text/plain": [
              "<tf.Tensor: shape=(2, 2), dtype=float32, numpy=\n",
              "array([[14., 32.],\n",
              "       [32., 77.]], dtype=float32)>"
            ]
          },
          "metadata": {},
          "execution_count": 50
        }
      ]
    },
    {
      "cell_type": "code",
      "execution_count": null,
      "metadata": {
        "id": "U9JZD6TYCZWu",
        "outputId": "489a1988-0c28-48e2-c8f4-44281ff8c753",
        "colab": {
          "base_uri": "https://localhost:8080/"
        }
      },
      "outputs": [
        {
          "output_type": "execute_result",
          "data": {
            "text/plain": [
              "<tf.Tensor: shape=(6, 3), dtype=float32, numpy=\n",
              "array([[1., 2., 3.],\n",
              "       [4., 5., 6.],\n",
              "       [1., 2., 3.],\n",
              "       [4., 5., 6.],\n",
              "       [1., 2., 3.],\n",
              "       [4., 5., 6.]], dtype=float32)>"
            ]
          },
          "metadata": {},
          "execution_count": 51
        }
      ],
      "source": [
        "tf.concat([x, x, x], axis=0) # concatenation along rows (first dimension)"
      ]
    },
    {
      "cell_type": "code",
      "execution_count": null,
      "metadata": {
        "id": "seGBLeD9P_PI",
        "outputId": "2661a2e4-c025-400a-d64b-bb12b20fc715",
        "colab": {
          "base_uri": "https://localhost:8080/"
        }
      },
      "outputs": [
        {
          "output_type": "execute_result",
          "data": {
            "text/plain": [
              "<tf.Tensor: shape=(2, 3), dtype=float32, numpy=\n",
              "array([[0.09003057, 0.24472848, 0.6652409 ],\n",
              "       [0.09003057, 0.24472848, 0.6652409 ]], dtype=float32)>"
            ]
          },
          "metadata": {},
          "execution_count": 52
        }
      ],
      "source": [
        "tf.nn.softmax(x, axis=-1) # function performed on the last dimension"
      ]
    },
    {
      "cell_type": "markdown",
      "source": [
        "**Softmax** is used for multi-class single label classification.\n",
        "\n",
        "$\\sigma(z_i) = \\frac{e^{z_{i}}}{\\sum_{j=1}^K e^{z_{j}}} \\ \\ \\ for\\ i=1,2,\\dots,K\n",
        "$\n",
        "\n",
        "+ **Multi-class classification**: There are more than two classes and every observation belongs to one and only one class. E.g., An ecommerce company wants to categorize products like smartphones based on their brands (Samsung, Huawei, Apple, Xiaomi, Sony or Other).\n",
        "\n",
        "\n"
      ],
      "metadata": {
        "id": "XkvxlR7AFSxQ"
      }
    },
    {
      "cell_type": "code",
      "execution_count": null,
      "metadata": {
        "id": "YZNZRv1ECjf8",
        "outputId": "c5b14821-8b17-408a-dd8a-a614b1ae672c",
        "colab": {
          "base_uri": "https://localhost:8080/"
        }
      },
      "outputs": [
        {
          "output_type": "stream",
          "name": "stdout",
          "text": [
            "tf.Tensor(\n",
            "[[1. 2. 3.]\n",
            " [4. 5. 6.]], shape=(2, 3), dtype=float32) tf.Tensor(21.0, shape=(), dtype=float32)\n"
          ]
        }
      ],
      "source": [
        "print(x,tf.reduce_sum(x))"
      ]
    },
    {
      "cell_type": "code",
      "source": [
        "print(tf.reduce_sum(tf.nn.softmax(x, axis=-1)))"
      ],
      "metadata": {
        "colab": {
          "base_uri": "https://localhost:8080/"
        },
        "id": "SwK0yr5sHo2S",
        "outputId": "05db0303-8a89-406f-b644-97e9bcef9a87"
      },
      "execution_count": null,
      "outputs": [
        {
          "output_type": "stream",
          "name": "stdout",
          "text": [
            "tf.Tensor(1.9999998, shape=(), dtype=float32)\n"
          ]
        }
      ]
    },
    {
      "cell_type": "markdown",
      "metadata": {
        "id": "TNHnIjOVLJfA"
      },
      "source": [
        "Note: Typically, anywhere a TensorFlow function expects a `Tensor` as input, the function will also accept anything that can be converted to a `Tensor` using `tf.convert_to_tensor`. See below for an example."
      ]
    },
    {
      "cell_type": "code",
      "execution_count": null,
      "metadata": {
        "id": "i_XKgjDsL4GE",
        "outputId": "d869047d-80dc-47c5-e838-7437be1e37f3",
        "colab": {
          "base_uri": "https://localhost:8080/"
        }
      },
      "outputs": [
        {
          "output_type": "execute_result",
          "data": {
            "text/plain": [
              "<tf.Tensor: shape=(3,), dtype=int32, numpy=array([1, 2, 3], dtype=int32)>"
            ]
          },
          "metadata": {},
          "execution_count": 55
        }
      ],
      "source": [
        "tf.convert_to_tensor([1,2,3])"
      ]
    },
    {
      "cell_type": "code",
      "execution_count": null,
      "metadata": {
        "id": "wTBt-JUqLJDJ",
        "outputId": "c6724478-4823-4c9b-e58d-b6cb307751c7",
        "colab": {
          "base_uri": "https://localhost:8080/"
        }
      },
      "outputs": [
        {
          "output_type": "execute_result",
          "data": {
            "text/plain": [
              "<tf.Tensor: shape=(), dtype=int32, numpy=6>"
            ]
          },
          "metadata": {},
          "execution_count": 56
        }
      ],
      "source": [
        "tf.reduce_sum([1,2,3])"
      ]
    },
    {
      "cell_type": "markdown",
      "metadata": {
        "id": "8-mi5031DVxz"
      },
      "source": [
        "Running large calculations on CPU can be slow. When properly configured, TensorFlow can use accelerator hardware like GPUs to execute operations very quickly."
      ]
    },
    {
      "cell_type": "code",
      "execution_count": null,
      "metadata": {
        "id": "m97Gv5H6Dz0G",
        "outputId": "7e0b2650-0a8d-4290-9090-253ac157282b",
        "colab": {
          "base_uri": "https://localhost:8080/"
        }
      },
      "outputs": [
        {
          "output_type": "stream",
          "name": "stdout",
          "text": [
            "TensorFlow **IS** using the GPU\n"
          ]
        }
      ],
      "source": [
        "if tf.config.list_physical_devices('GPU'):\n",
        "  print(\"TensorFlow **IS** using the GPU\")\n",
        "else:\n",
        "  print(\"TensorFlow **IS NOT** using the GPU\")"
      ]
    },
    {
      "cell_type": "markdown",
      "source": [
        "Refer to the [Tensor guide](https://www.tensorflow.org/guide/tensor) for details."
      ],
      "metadata": {
        "id": "m49dj2PHKzUw"
      }
    },
    {
      "cell_type": "markdown",
      "metadata": {
        "id": "oVbomvMyEIVF"
      },
      "source": [
        "## Variables\n",
        "\n",
        "Normal `tf.Tensor` objects are **immutable**. \n",
        "\n",
        "To store model weights (or other mutable state) in TensorFlow use a `tf.Variable`."
      ]
    },
    {
      "cell_type": "code",
      "execution_count": null,
      "metadata": {
        "id": "SO8_bP4UEzxS"
      },
      "outputs": [],
      "source": [
        "var = tf.Variable([0.0, 0.0, 0.0])"
      ]
    },
    {
      "cell_type": "code",
      "execution_count": null,
      "metadata": {
        "id": "aDLYFvu5FAFa",
        "outputId": "8dd133bb-62f0-4227-f8c1-234a2a0172ee",
        "colab": {
          "base_uri": "https://localhost:8080/"
        }
      },
      "outputs": [
        {
          "output_type": "execute_result",
          "data": {
            "text/plain": [
              "<tf.Variable 'UnreadVariable' shape=(3,) dtype=float32, numpy=array([1., 2., 3.], dtype=float32)>"
            ]
          },
          "metadata": {},
          "execution_count": 59
        }
      ],
      "source": [
        "var.assign([1, 2, 3])"
      ]
    },
    {
      "cell_type": "code",
      "execution_count": null,
      "metadata": {
        "id": "9EpiOmxXFDSS",
        "outputId": "0bfd1821-0122-443c-8cbc-05f310034af9",
        "colab": {
          "base_uri": "https://localhost:8080/"
        }
      },
      "outputs": [
        {
          "output_type": "execute_result",
          "data": {
            "text/plain": [
              "<tf.Variable 'UnreadVariable' shape=(3,) dtype=float32, numpy=array([2., 3., 4.], dtype=float32)>"
            ]
          },
          "metadata": {},
          "execution_count": 60
        }
      ],
      "source": [
        "var.assign_add([1, 1, 1])"
      ]
    },
    {
      "cell_type": "markdown",
      "source": [
        "Refer to https://www.tensorflow.org/guide/variable for details."
      ],
      "metadata": {
        "id": "r-amLC29K9IP"
      }
    },
    {
      "cell_type": "markdown",
      "metadata": {
        "id": "rG1Dhv2QFkV3"
      },
      "source": [
        "## Automatic differentiation\n",
        "\n",
        "<a href=\"https://en.wikipedia.org/wiki/Gradient_descent\" class=\"external\">_Gradient descent_</a> and related algorithms are a cornerstone of modern machine learning.\n",
        "\n",
        "To enable this, TensorFlow implements automatic differentiation (autodiff), which uses calculus to compute gradients. Typically you'll use this to calculate the gradient of a model's _error_ or _loss_ with respect to its weights."
      ]
    },
    {
      "cell_type": "code",
      "execution_count": null,
      "metadata": {
        "id": "cYKOi-z4GY9Y"
      },
      "outputs": [],
      "source": [
        "x = tf.Variable(1.0)\n",
        "\n",
        "def f(x):\n",
        "  y = x**2 + 2*x - 5\n",
        "  return y"
      ]
    },
    {
      "cell_type": "code",
      "execution_count": null,
      "metadata": {
        "id": "IQz99cxMGoF_",
        "outputId": "b04aa7f1-ffc2-40d8-81f1-8f56f10c7b48",
        "colab": {
          "base_uri": "https://localhost:8080/"
        }
      },
      "outputs": [
        {
          "output_type": "execute_result",
          "data": {
            "text/plain": [
              "<tf.Tensor: shape=(), dtype=float32, numpy=-2.0>"
            ]
          },
          "metadata": {},
          "execution_count": 18
        }
      ],
      "source": [
        "f(x)"
      ]
    },
    {
      "cell_type": "markdown",
      "metadata": {
        "id": "ozLLop0cHeYl"
      },
      "source": [
        "At `x = 1.0`, `y = f(x) = (1**2 + 2*1 - 5) = -2`.\n",
        "\n",
        "The derivative of `y` at `x = 1.0` is `y' = f'(x) = (2*x + 2) = 4`. TensorFlow can calculate this automatically:"
      ]
    },
    {
      "cell_type": "code",
      "execution_count": null,
      "metadata": {
        "id": "N02NfWpHGvw8",
        "outputId": "4894b2c2-03ef-4a4d-a6b1-a11c094cd0b7",
        "colab": {
          "base_uri": "https://localhost:8080/"
        }
      },
      "outputs": [
        {
          "output_type": "execute_result",
          "data": {
            "text/plain": [
              "<tf.Tensor: shape=(), dtype=float32, numpy=4.0>"
            ]
          },
          "metadata": {},
          "execution_count": 19
        }
      ],
      "source": [
        "with tf.GradientTape() as tape:\n",
        "  y = f(x)\n",
        "\n",
        "g_x = tape.gradient(y, x)  # g(x) = dy/dx\n",
        "\n",
        "g_x"
      ]
    },
    {
      "cell_type": "markdown",
      "metadata": {
        "id": "s-DVYJfcIRPd"
      },
      "source": [
        "This simplified example only takes the derivative with respect to a single scalar (`x`), but TensorFlow can compute the gradient with respect to any number of non-scalar tensors simultaneously."
      ]
    },
    {
      "cell_type": "code",
      "source": [
        "x = tf.Variable([1.0,2.0])\n",
        "\n",
        "def f(x):\n",
        "  y = x**2 + 2*x - 5\n",
        "  return y\n",
        "\n",
        "f(x)"
      ],
      "metadata": {
        "colab": {
          "base_uri": "https://localhost:8080/"
        },
        "id": "rlldYHmLKLhP",
        "outputId": "bc8899be-c87a-457c-fcb7-d930d5644ace"
      },
      "execution_count": null,
      "outputs": [
        {
          "output_type": "execute_result",
          "data": {
            "text/plain": [
              "<tf.Tensor: shape=(2,), dtype=float32, numpy=array([-2.,  3.], dtype=float32)>"
            ]
          },
          "metadata": {},
          "execution_count": 20
        }
      ]
    },
    {
      "cell_type": "code",
      "source": [
        "with tf.GradientTape() as tape:\n",
        "  y = f(x)\n",
        "\n",
        "g_x = tape.gradient(y, x)  # g(x) = dy/dx\n",
        "\n",
        "g_x"
      ],
      "metadata": {
        "colab": {
          "base_uri": "https://localhost:8080/"
        },
        "id": "TIkXfi4LKcWm",
        "outputId": "da4a3313-6728-45da-8d89-3341eab60417"
      },
      "execution_count": null,
      "outputs": [
        {
          "output_type": "execute_result",
          "data": {
            "text/plain": [
              "<tf.Tensor: shape=(2,), dtype=float32, numpy=array([4., 6.], dtype=float32)>"
            ]
          },
          "metadata": {},
          "execution_count": 21
        }
      ]
    },
    {
      "cell_type": "markdown",
      "metadata": {
        "id": "ECK3I9bUMk_r"
      },
      "source": [
        "Refer to the [Autodiff guide](https://www.tensorflow.org/guide/autodiff) for details."
      ]
    },
    {
      "cell_type": "markdown",
      "metadata": {
        "id": "VglUM4M3KhNz"
      },
      "source": [
        "## Graphs and tf.function\n",
        "\n",
        "While you can use TensorFlow interactively like any Python library, TensorFlow also provides tools for:\n",
        "\n",
        "* **Performance optimization**: to speed up training and inference.\n",
        "* **Export**: so you can save your model when it's done training.\n",
        "\n",
        "These require that you use a decorator, `tf.function`, to separate your pure-TensorFlow code from Python."
      ]
    },
    {
      "cell_type": "code",
      "execution_count": null,
      "metadata": {
        "id": "VitACyZWKJD_"
      },
      "outputs": [],
      "source": [
        "@tf.function\n",
        "def my_func(x):\n",
        "  print('Tracing.\\n')\n",
        "  return tf.reduce_sum(x)"
      ]
    },
    {
      "cell_type": "markdown",
      "metadata": {
        "id": "fBYDh-huNUBZ"
      },
      "source": [
        "The first time you run the `tf.function`, although it executes in Python, it captures a **complete, optimized graph** representing the TensorFlow computations done within the function."
      ]
    },
    {
      "cell_type": "code",
      "execution_count": null,
      "metadata": {
        "id": "vkOFSEkoM1bd",
        "outputId": "4c2863ab-9e81-4bbb-bf84-43ad3cb8b9af",
        "colab": {
          "base_uri": "https://localhost:8080/"
        }
      },
      "outputs": [
        {
          "output_type": "execute_result",
          "data": {
            "text/plain": [
              "<tf.Tensor: shape=(), dtype=int32, numpy=6>"
            ]
          },
          "metadata": {},
          "execution_count": 61
        }
      ],
      "source": [
        "x = tf.constant([1, 2, 3])\n",
        "my_func(x)"
      ]
    },
    {
      "cell_type": "markdown",
      "metadata": {
        "id": "a3aWzt-rNsBa"
      },
      "source": [
        "On subsequent calls TensorFlow only executes the optimized graph, skipping any non-TensorFlow steps. Below, note that `my_func` doesn't print _tracing_ since `print` is a Python function, not a TensorFlow function."
      ]
    },
    {
      "cell_type": "code",
      "execution_count": null,
      "metadata": {
        "id": "23dMHWwwNIoa",
        "outputId": "e05b276f-d5a5-4ca1-b208-f3d9473b8381",
        "colab": {
          "base_uri": "https://localhost:8080/"
        }
      },
      "outputs": [
        {
          "output_type": "execute_result",
          "data": {
            "text/plain": [
              "<tf.Tensor: shape=(), dtype=int32, numpy=27>"
            ]
          },
          "metadata": {},
          "execution_count": 62
        }
      ],
      "source": [
        "x = tf.constant([10, 9, 8])\n",
        "my_func(x)"
      ]
    },
    {
      "cell_type": "markdown",
      "metadata": {
        "id": "nSeTti6zki0n"
      },
      "source": [
        "A graph may not be reusable for inputs with a different _signature_ (`shape` and `dtype`), so a new graph is generated instead:"
      ]
    },
    {
      "cell_type": "code",
      "execution_count": null,
      "metadata": {
        "id": "OWffqyhqlVPf",
        "outputId": "447e3ad4-d991-4c88-8477-ae1276ca0afd",
        "colab": {
          "base_uri": "https://localhost:8080/"
        }
      },
      "outputs": [
        {
          "output_type": "execute_result",
          "data": {
            "text/plain": [
              "<tf.Tensor: shape=(), dtype=float32, numpy=27.3>"
            ]
          },
          "metadata": {},
          "execution_count": 63
        }
      ],
      "source": [
        "x = tf.constant([10.0, 9.1, 8.2], dtype=tf.float32)\n",
        "my_func(x)"
      ]
    },
    {
      "cell_type": "markdown",
      "metadata": {
        "id": "UWknAA_zNTOa"
      },
      "source": [
        "These captured graphs provide two benefits:\n",
        "\n",
        "* In many cases they provide a significant speedup in execution (though not this trivial example).\n",
        "* You can export these graphs, using `tf.saved_model`, to run on other systems like a [server](https://www.tensorflow.org/tfx/serving/docker) or a [mobile device](https://www.tensorflow.org/lite/guide), no Python installation required."
      ]
    },
    {
      "cell_type": "markdown",
      "metadata": {
        "id": "hLUJ6f2eMsA8"
      },
      "source": [
        "Refer to [Intro to graphs](intro_to_graphs.ipynb) for more details."
      ]
    },
    {
      "cell_type": "markdown",
      "metadata": {
        "id": "t_36xPDPPBqp"
      },
      "source": [
        "## Modules, layers, and models"
      ]
    },
    {
      "cell_type": "markdown",
      "metadata": {
        "id": "oDaT7kCpUgnJ"
      },
      "source": [
        "`tf.Module` is a class for managing your `tf.Variable` objects, and the `tf.function` objects that operate on them. The `tf.Module` class is necessary to support two significant features:\n",
        "\n",
        "1. You can save and restore the values of your variables using `tf.train.Checkpoint`. This is useful during training as it is quick to save and restore a model's state.\n",
        "2. You can import and export the `tf.Variable` values _and_ the `tf.function` graphs using `tf.saved_model`. This allows you to run your model independently of the Python program that created it.\n",
        "\n",
        "Here is a complete example exporting a simple `tf.Module` object:"
      ]
    },
    {
      "cell_type": "code",
      "execution_count": null,
      "metadata": {
        "id": "1MqEcZOqPBDV"
      },
      "outputs": [],
      "source": [
        "class MyModule(tf.Module):\n",
        "  def __init__(self, value):\n",
        "    self.weight = tf.Variable(value)\n",
        "\n",
        "  @tf.function\n",
        "  def multiply(self, x):\n",
        "    return x * self.weight"
      ]
    },
    {
      "cell_type": "code",
      "execution_count": null,
      "metadata": {
        "id": "la2G82HfVfU0",
        "outputId": "3926a2dc-e64d-4a6b-bee2-1d8a1aa97e0f",
        "colab": {
          "base_uri": "https://localhost:8080/"
        }
      },
      "outputs": [
        {
          "output_type": "execute_result",
          "data": {
            "text/plain": [
              "<tf.Tensor: shape=(3,), dtype=int32, numpy=array([3, 6, 9], dtype=int32)>"
            ]
          },
          "metadata": {},
          "execution_count": 65
        }
      ],
      "source": [
        "mod = MyModule(3)\n",
        "mod.multiply(tf.constant([1, 2, 3]))"
      ]
    },
    {
      "cell_type": "markdown",
      "metadata": {
        "id": "GaSJX7zQXCm4"
      },
      "source": [
        "Save the `Module`:"
      ]
    },
    {
      "cell_type": "code",
      "execution_count": null,
      "metadata": {
        "id": "1MlfbEMjVzG4"
      },
      "outputs": [],
      "source": [
        "save_path = './saved'\n",
        "tf.saved_model.save(mod, save_path)"
      ]
    },
    {
      "cell_type": "markdown",
      "metadata": {
        "id": "LgfoftD4XGJW"
      },
      "source": [
        "The resulting SavedModel is independent of the code that created it. You can load a SavedModel from Python, other language bindings, or [TensorFlow Serving](https://www.tensorflow.org/tfx/serving/docker). You can also convert it to run with [TensorFlow Lite](https://www.tensorflow.org/lite/guide) or [TensorFlow JS](https://www.tensorflow.org/js/guide)."
      ]
    },
    {
      "cell_type": "code",
      "execution_count": null,
      "metadata": {
        "id": "pWuLOIKBWZYG",
        "outputId": "75094ca0-d921-4c70-b15d-c974395c0792",
        "colab": {
          "base_uri": "https://localhost:8080/"
        }
      },
      "outputs": [
        {
          "output_type": "execute_result",
          "data": {
            "text/plain": [
              "<tf.Tensor: shape=(3,), dtype=int32, numpy=array([3, 6, 9], dtype=int32)>"
            ]
          },
          "metadata": {},
          "execution_count": 67
        }
      ],
      "source": [
        "reloaded = tf.saved_model.load(save_path)\n",
        "reloaded.multiply(tf.constant([1, 2, 3]))"
      ]
    },
    {
      "cell_type": "markdown",
      "metadata": {
        "id": "nxU6P1RGwHyC"
      },
      "source": [
        "The `tf.keras.layers.Layer` and `tf.keras.Model` classes build on `tf.Module` providing additional functionality and convenience methods for building, training, and saving models. Some of these are demonstrated in the next section."
      ]
    },
    {
      "cell_type": "markdown",
      "metadata": {
        "id": "tQzt3yaWMzLf"
      },
      "source": [
        "Refer to [Intro to modules](intro_to_modules.ipynb) for details."
      ]
    },
    {
      "cell_type": "markdown",
      "metadata": {
        "id": "Rk1IEG5aav7X"
      },
      "source": [
        "## Training loops\n",
        "\n",
        "Now put this all together to build a basic model and train it from scratch.\n",
        "\n",
        "First, create some example data. This generates a cloud of points that loosely follows a quadratic curve:"
      ]
    },
    {
      "cell_type": "code",
      "execution_count": null,
      "metadata": {
        "id": "VcuFr7KPRPzn"
      },
      "outputs": [],
      "source": [
        "import matplotlib\n",
        "from matplotlib import pyplot as plt\n",
        "\n",
        "matplotlib.rcParams['figure.figsize'] = [9, 6]"
      ]
    },
    {
      "cell_type": "code",
      "source": [
        "x = tf.linspace(-2, 2, 201)\n",
        "x"
      ],
      "metadata": {
        "colab": {
          "base_uri": "https://localhost:8080/"
        },
        "id": "KFlQyCjJM8ym",
        "outputId": "28001a15-2fd7-4971-e5aa-99fe46587c33"
      },
      "execution_count": null,
      "outputs": [
        {
          "output_type": "execute_result",
          "data": {
            "text/plain": [
              "<tf.Tensor: shape=(201,), dtype=float64, numpy=\n",
              "array([-2.  , -1.98, -1.96, -1.94, -1.92, -1.9 , -1.88, -1.86, -1.84,\n",
              "       -1.82, -1.8 , -1.78, -1.76, -1.74, -1.72, -1.7 , -1.68, -1.66,\n",
              "       -1.64, -1.62, -1.6 , -1.58, -1.56, -1.54, -1.52, -1.5 , -1.48,\n",
              "       -1.46, -1.44, -1.42, -1.4 , -1.38, -1.36, -1.34, -1.32, -1.3 ,\n",
              "       -1.28, -1.26, -1.24, -1.22, -1.2 , -1.18, -1.16, -1.14, -1.12,\n",
              "       -1.1 , -1.08, -1.06, -1.04, -1.02, -1.  , -0.98, -0.96, -0.94,\n",
              "       -0.92, -0.9 , -0.88, -0.86, -0.84, -0.82, -0.8 , -0.78, -0.76,\n",
              "       -0.74, -0.72, -0.7 , -0.68, -0.66, -0.64, -0.62, -0.6 , -0.58,\n",
              "       -0.56, -0.54, -0.52, -0.5 , -0.48, -0.46, -0.44, -0.42, -0.4 ,\n",
              "       -0.38, -0.36, -0.34, -0.32, -0.3 , -0.28, -0.26, -0.24, -0.22,\n",
              "       -0.2 , -0.18, -0.16, -0.14, -0.12, -0.1 , -0.08, -0.06, -0.04,\n",
              "       -0.02,  0.  ,  0.02,  0.04,  0.06,  0.08,  0.1 ,  0.12,  0.14,\n",
              "        0.16,  0.18,  0.2 ,  0.22,  0.24,  0.26,  0.28,  0.3 ,  0.32,\n",
              "        0.34,  0.36,  0.38,  0.4 ,  0.42,  0.44,  0.46,  0.48,  0.5 ,\n",
              "        0.52,  0.54,  0.56,  0.58,  0.6 ,  0.62,  0.64,  0.66,  0.68,\n",
              "        0.7 ,  0.72,  0.74,  0.76,  0.78,  0.8 ,  0.82,  0.84,  0.86,\n",
              "        0.88,  0.9 ,  0.92,  0.94,  0.96,  0.98,  1.  ,  1.02,  1.04,\n",
              "        1.06,  1.08,  1.1 ,  1.12,  1.14,  1.16,  1.18,  1.2 ,  1.22,\n",
              "        1.24,  1.26,  1.28,  1.3 ,  1.32,  1.34,  1.36,  1.38,  1.4 ,\n",
              "        1.42,  1.44,  1.46,  1.48,  1.5 ,  1.52,  1.54,  1.56,  1.58,\n",
              "        1.6 ,  1.62,  1.64,  1.66,  1.68,  1.7 ,  1.72,  1.74,  1.76,\n",
              "        1.78,  1.8 ,  1.82,  1.84,  1.86,  1.88,  1.9 ,  1.92,  1.94,\n",
              "        1.96,  1.98,  2.  ])>"
            ]
          },
          "metadata": {},
          "execution_count": 86
        }
      ]
    },
    {
      "cell_type": "code",
      "execution_count": null,
      "metadata": {
        "id": "sXN9E_xf-GiP",
        "outputId": "46097b5a-8692-4289-f07e-4728d3e6440f",
        "colab": {
          "base_uri": "https://localhost:8080/",
          "height": 374
        }
      },
      "outputs": [
        {
          "output_type": "display_data",
          "data": {
            "text/plain": [
              "<Figure size 648x432 with 1 Axes>"
            ],
            "image/png": "[encoded data removed]"
          },
          "metadata": {
            "needs_background": "light"
          }
        }
      ],
      "source": [
        "x = tf.linspace(-2, 2, 201)\n",
        "x = tf.cast(x, tf.float32)\n",
        "\n",
        "def f(x):\n",
        "  y = x**2 + 2*x - 5\n",
        "  return y\n",
        "\n",
        "y = f(x) + tf.random.normal(shape=[201])\n",
        "\n",
        "plt.plot(x.numpy(), y.numpy(), '.', label='Data')\n",
        "plt.plot(x, f(x), label='Ground truth')\n",
        "plt.legend();"
      ]
    },
    {
      "cell_type": "markdown",
      "metadata": {
        "id": "De5LldboSWcW"
      },
      "source": [
        "Create a quadratic model ($w_q * x^2 + w_l * x + b$) with randomly initialized weights and a bias:"
      ]
    },
    {
      "cell_type": "code",
      "execution_count": null,
      "metadata": {
        "id": "Pypd0GB4SRhf"
      },
      "outputs": [],
      "source": [
        "class QModel(tf.Module):\n",
        "\n",
        "  def __init__(self):\n",
        "    # Randomly generate weight and bias terms\n",
        "    rand_init = tf.random.uniform(shape=[3], minval=0., maxval=5., seed=22)\n",
        "    # Initialize model parameters\n",
        "    self.w_q = tf.Variable(rand_init[0])\n",
        "    self.w_l = tf.Variable(rand_init[1])\n",
        "    self.b = tf.Variable(rand_init[2])\n",
        "  \n",
        "  @tf.function\n",
        "  def __call__(self, x):\n",
        "    # Quadratic Model : quadratic_weight * x^2 + linear_weight * x + bias\n",
        "    return self.w_q * (x**2) + self.w_l * x + self.b"
      ]
    },
    {
      "cell_type": "markdown",
      "metadata": {
        "id": "36o7VjaesScg"
      },
      "source": [
        "First, observe your model's performance before training:"
      ]
    },
    {
      "cell_type": "code",
      "execution_count": null,
      "metadata": {
        "id": "GkwToC5BWV1c"
      },
      "outputs": [],
      "source": [
        "quad_model = QModel()"
      ]
    },
    {
      "cell_type": "code",
      "execution_count": null,
      "metadata": {
        "id": "ReWhH40wTY5F"
      },
      "outputs": [],
      "source": [
        "def plot_preds(x, y, f, model, title):\n",
        "  plt.figure()\n",
        "  plt.plot(x, y, '.', label='Data')\n",
        "  plt.plot(x, f(x), label='Ground truth')\n",
        "  plt.plot(x, model(x), label='QModel Predictions')\n",
        "  plt.title(title)\n",
        "  plt.legend()"
      ]
    },
    {
      "cell_type": "code",
      "execution_count": null,
      "metadata": {
        "id": "Y0JtXQat-nlk",
        "outputId": "111edfed-774c-45ce-e462-8fa477aa2e9d",
        "colab": {
          "base_uri": "https://localhost:8080/",
          "height": 390
        }
      },
      "outputs": [
        {
          "output_type": "display_data",
          "data": {
            "text/plain": [
              "<Figure size 648x432 with 1 Axes>"
            ],
            "image/png": "[encoded data removed]"
          },
          "metadata": {
            "needs_background": "light"
          }
        }
      ],
      "source": [
        "plot_preds(x, y, f, quad_model, 'Before training')"
      ]
    },
    {
      "cell_type": "markdown",
      "metadata": {
        "id": "hLzwD0-ascGf"
      },
      "source": [
        "Now, define a loss for your model:\n",
        "\n",
        "Given that this model is intended to predict continuous values, the mean squared error (MSE) is a good choice for the loss function. Given a vector of predictions, $\\hat{y}$, and a vector of true targets, $y$, the MSE is defined as the mean of the squared differences between the predicted values and the ground truth.\n",
        "\n",
        "$MSE = \\frac{1}{m}\\sum_{i=1}^{m}(\\hat{y}_i -y_i)^2$"
      ]
    },
    {
      "cell_type": "code",
      "execution_count": null,
      "metadata": {
        "id": "eCtJ1uuCseZd"
      },
      "outputs": [],
      "source": [
        "def mse_loss(y_pred, y):\n",
        "  return tf.reduce_mean(tf.square(y_pred - y))"
      ]
    },
    {
      "cell_type": "markdown",
      "metadata": {
        "id": "7EWyDu3zot2w"
      },
      "source": [
        "Write a basic training loop for the model. \n",
        "\n",
        "The loop will make use of the MSE loss function and its gradients with respect to the input in order to iteratively update the model's parameters. Using mini-batches for training provides both memory efficienciy and faster convergence. The `tf.data.Dataset` API has useful functions for batching and shuffling."
      ]
    },
    {
      "cell_type": "code",
      "execution_count": null,
      "metadata": {
        "id": "8kX_-zily2Ia"
      },
      "outputs": [],
      "source": [
        "batch_size = 32\n",
        "\n",
        "# Create a Dataset whose elements are slices of the given tensors.\n",
        "dataset = tf.data.Dataset.from_tensor_slices((x, y)) \n",
        "\n",
        "# Randomly shuffles the elements of this dataset.\n",
        "# and\n",
        "# combines consecutive elements of this dataset into batches\n",
        "# that can be accessed with an iterator: `for x_batch, y_batch in dataset:`\n",
        "dataset = dataset.shuffle(buffer_size=x.shape[0]).batch(batch_size)"
      ]
    },
    {
      "cell_type": "code",
      "execution_count": null,
      "metadata": {
        "id": "nOaES5gyTDtG",
        "outputId": "e7557f29-81d8-4a70-8cb6-9f6acadc7a23",
        "colab": {
          "base_uri": "https://localhost:8080/",
          "height": 612
        }
      },
      "outputs": [
        {
          "output_type": "stream",
          "name": "stdout",
          "text": [
            "Mean squared error for step 0: 66.671\n",
            "Mean squared error for step 10: 6.356\n",
            "Mean squared error for step 20: 2.861\n",
            "Mean squared error for step 30: 1.630\n",
            "Mean squared error for step 40: 1.200\n",
            "Mean squared error for step 50: 1.045\n",
            "Mean squared error for step 60: 0.990\n",
            "Mean squared error for step 70: 0.971\n",
            "Mean squared error for step 80: 0.966\n",
            "Mean squared error for step 90: 0.963\n",
            "\n",
            "\n"
          ]
        },
        {
          "output_type": "display_data",
          "data": {
            "text/plain": [
              "<Figure size 648x432 with 1 Axes>"
            ],
            "image/png": "[encoded data removed]"
          },
          "metadata": {
            "needs_background": "light"
          }
        }
      ],
      "source": [
        "# Set training parameters\n",
        "epochs = 100\n",
        "learning_rate = 0.01\n",
        "losses = []\n",
        "\n",
        "# Format training loop\n",
        "for epoch in range(epochs):\n",
        "  for x_batch, y_batch in dataset:\n",
        "    with tf.GradientTape() as tape:\n",
        "      batch_loss = mse_loss(quad_model(x_batch), y_batch)\n",
        "    # Update parameters with respect to the gradient calculations\n",
        "    grads = tape.gradient(batch_loss, quad_model.variables)\n",
        "    for g,v in zip(grads, quad_model.variables):\n",
        "        v.assign_sub(learning_rate*g)\n",
        "  # Keep track of model loss per epoch\n",
        "  loss = mse_loss(quad_model(x), y)\n",
        "  losses.append(loss)\n",
        "  if epoch % 10 == 0:\n",
        "    print(f'Mean squared error for step {epoch}: {loss.numpy():0.3f}')\n",
        "\n",
        "# Plot model results\n",
        "print(\"\\n\")\n",
        "plt.plot(range(epochs), losses)\n",
        "plt.xlabel(\"Epoch\")\n",
        "plt.ylabel(\"Mean Squared Error (MSE)\")\n",
        "plt.title('MSE loss vs training iterations');"
      ]
    },
    {
      "cell_type": "markdown",
      "metadata": {
        "id": "dW5B2TTRsvxE"
      },
      "source": [
        "Now, observe your model's performance after training:"
      ]
    },
    {
      "cell_type": "code",
      "execution_count": null,
      "metadata": {
        "id": "Qcvzyg3eYLh8",
        "outputId": "3d3c316f-2bc5-436c-8d35-fc9677aefaa4",
        "colab": {
          "base_uri": "https://localhost:8080/",
          "height": 390
        }
      },
      "outputs": [
        {
          "output_type": "display_data",
          "data": {
            "text/plain": [
              "<Figure size 648x432 with 1 Axes>"
            ],
            "image/png": "[encoded data removed]"
          },
          "metadata": {
            "needs_background": "light"
          }
        }
      ],
      "source": [
        "plot_preds(x, y, f, quad_model, 'After training')"
      ]
    },
    {
      "cell_type": "markdown",
      "metadata": {
        "id": "hbtmFJIXb6qm"
      },
      "source": [
        "That's working, but remember that implementations of common training utilities are available in the `tf.keras` module. So, consider using those before writing your own. To start with, the `Model.compile` and `Model.fit` methods implement a training loop for you:"
      ]
    },
    {
      "cell_type": "markdown",
      "metadata": {
        "id": "cjx23MiztFmT"
      },
      "source": [
        "# Keras\n",
        "\n",
        "Begin by creating a Sequential Model in Keras using `tf.keras.Sequential`. \n",
        "\n",
        "One of the simplest Keras layers is the dense layer, which can be instantiated with `tf.keras.layers.Dense`. The dense layer is able to learn multidimensional linear relationships of the form $\\mathrm{Y} = \\mathrm{W}\\mathrm{X} +  \\mathrm{B}$. \n",
        "\n",
        "In order to learn a nonlinear equation of the form, $w_1x^2 + w_2x + b$, the dense layer's input should be a data matrix with $x^2$ and $x$ as features. The lambda layer, `tf.keras.layers.Lambda`, can be used to perform this stacking transformation."
      ]
    },
    {
      "cell_type": "code",
      "execution_count": null,
      "metadata": {
        "id": "5rt8HP2TZhEM"
      },
      "outputs": [],
      "source": [
        "new_model = tf.keras.Sequential([\n",
        "    tf.keras.layers.Lambda(lambda x: tf.stack([x, x**2], axis=1)),\n",
        "    tf.keras.layers.Dense(units=1, kernel_initializer=tf.random.normal)])"
      ]
    },
    {
      "cell_type": "code",
      "execution_count": null,
      "metadata": {
        "id": "73kCo1BtP3rQ"
      },
      "outputs": [],
      "source": [
        "new_model.compile(\n",
        "    loss=tf.keras.losses.MSE,\n",
        "    optimizer=tf.keras.optimizers.SGD(learning_rate=0.01))\n",
        "\n",
        "history = new_model.fit(x, y,\n",
        "                        epochs=200,\n",
        "                        batch_size=32,\n",
        "                        verbose=0)\n",
        "\n",
        "new_model.save('./my_new_model')"
      ]
    },
    {
      "cell_type": "code",
      "source": [
        "history.history.keys()"
      ],
      "metadata": {
        "colab": {
          "base_uri": "https://localhost:8080/"
        },
        "id": "e4ndIqVE7K1b",
        "outputId": "331305c5-adb8-4524-a35f-96ac1216f7d0"
      },
      "execution_count": null,
      "outputs": [
        {
          "output_type": "execute_result",
          "data": {
            "text/plain": [
              "dict_keys(['loss'])"
            ]
          },
          "metadata": {},
          "execution_count": 102
        }
      ]
    },
    {
      "cell_type": "markdown",
      "metadata": {
        "id": "u3q5d1SzvzTq"
      },
      "source": [
        "Observe your Keras model's performance after training:"
      ]
    },
    {
      "cell_type": "code",
      "execution_count": null,
      "metadata": {
        "id": "Mo7zRV7XZjv7",
        "outputId": "a4e7e151-228e-4814-b80d-c5ee38e49f2e",
        "colab": {
          "base_uri": "https://localhost:8080/",
          "height": 404
        }
      },
      "outputs": [
        {
          "output_type": "display_data",
          "data": {
            "text/plain": [
              "<Figure size 648x432 with 1 Axes>"
            ],
            "image/png": "[encoded data removed]"
          },
          "metadata": {
            "needs_background": "light"
          }
        }
      ],
      "source": [
        "plt.plot(history.history['loss'])\n",
        "plt.xlabel('Epoch')\n",
        "plt.ylim([0, max(plt.ylim())])\n",
        "plt.ylabel('Loss [Mean Squared Error]')\n",
        "plt.title('Keras training progress');"
      ]
    },
    {
      "cell_type": "code",
      "execution_count": null,
      "metadata": {
        "id": "bB44a9YsvnfK",
        "outputId": "e4c7f7ae-f376-4f3f-96c2-b16f0a0e4558",
        "colab": {
          "base_uri": "https://localhost:8080/",
          "height": 390
        }
      },
      "outputs": [
        {
          "output_type": "display_data",
          "data": {
            "text/plain": [
              "<Figure size 648x432 with 1 Axes>"
            ],
            "image/png": "[encoded data removed]"
          },
          "metadata": {
            "needs_background": "light"
          }
        }
      ],
      "source": [
        "plot_preds(x, y, f, new_model, 'After Training: Keras')"
      ]
    },
    {
      "cell_type": "markdown",
      "metadata": {
        "id": "ng-BY_eGS0bn"
      },
      "source": [
        "Refer to [Basic training loops](basic_training_loops.ipynb) and the [Keras guide](https://www.tensorflow.org/guide/keras) for more details."
      ]
    }
  ],
  "metadata": {
    "colab": {
      "collapsed_sections": [],
      "provenance": [],
      "toc_visible": true
    },
    "kernelspec": {
      "display_name": "Python 3",
      "name": "python3"
    },
    "accelerator": "GPU"
  },
  "nbformat": 4,
  "nbformat_minor": 0
}