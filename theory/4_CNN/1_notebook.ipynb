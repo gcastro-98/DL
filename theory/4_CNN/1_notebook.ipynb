{
  "cells": [
    {
      "cell_type": "markdown",
      "metadata": {
        "id": "ZwMF7e6dgXFT"
      },
      "source": [
        "# Convolutional Neural Network (MNIST)\n",
        "\n",
        "---\n",
        "\n"
      ]
    },
    {
      "cell_type": "code",
      "execution_count": null,
      "metadata": {
        "colab": {
          "base_uri": "https://localhost:8080/"
        },
        "id": "I3HtVpV1RoPg",
        "outputId": "476264fe-4c85-4325-9a90-4cc3f49383c8"
      },
      "outputs": [
        {
          "name": "stdout",
          "output_type": "stream",
          "text": [
            "Downloading data from https://storage.googleapis.com/tensorflow/tf-keras-datasets/mnist.npz\n",
            "11490434/11490434 [==============================] - 0s 0us/step\n",
            "x_train shape: (60000, 28, 28, 1)\n",
            "60000 train samples\n",
            "10000 test samples\n",
            "Model: \"sequential\"\n",
            "_________________________________________________________________\n",
            " Layer (type)                Output Shape              Param #   \n",
            "=================================================================\n",
            " conv2d (Conv2D)             (None, 26, 26, 32)        320       \n",
            "                                                                 \n",
            " max_pooling2d (MaxPooling2D  (None, 13, 13, 32)       0         \n",
            " )                                                               \n",
            "                                                                 \n",
            " conv2d_1 (Conv2D)           (None, 11, 11, 64)        18496     \n",
            "                                                                 \n",
            " max_pooling2d_1 (MaxPooling  (None, 5, 5, 64)         0         \n",
            " 2D)                                                             \n",
            "                                                                 \n",
            " flatten (Flatten)           (None, 1600)              0         \n",
            "                                                                 \n",
            " dropout (Dropout)           (None, 1600)              0         \n",
            "                                                                 \n",
            " dense (Dense)               (None, 10)                16010     \n",
            "                                                                 \n",
            "=================================================================\n",
            "Total params: 34,826\n",
            "Trainable params: 34,826\n",
            "Non-trainable params: 0\n",
            "_________________________________________________________________\n"
          ]
        }
      ],
      "source": [
        "import numpy as np\n",
        "from tensorflow import keras\n",
        "from tensorflow.keras import layers\n",
        "\n",
        "# Model / data parameters\n",
        "num_classes = 10\n",
        "input_shape = (28, 28, 1)\n",
        "\n",
        "# the data, split between train and test sets\n",
        "(x_train, y_train), (x_test, y_test) = keras.datasets.mnist.load_data()\n",
        "\n",
        "# Scale images to the [0, 1] range\n",
        "x_train = x_train.astype(\"float32\") / 255\n",
        "x_test = x_test.astype(\"float32\") / 255\n",
        "# Make sure images have shape (28, 28, 1)\n",
        "x_train = np.expand_dims(x_train, -1)\n",
        "x_test = np.expand_dims(x_test, -1)\n",
        "print(\"x_train shape:\", x_train.shape)\n",
        "print(x_train.shape[0], \"train samples\")\n",
        "print(x_test.shape[0], \"test samples\")\n",
        "\n",
        "\n",
        "# convert class vectors to binary class matrices\n",
        "y_train = keras.utils.to_categorical(y_train, num_classes)\n",
        "y_test = keras.utils.to_categorical(y_test, num_classes)\n",
        "\n",
        "\n",
        "model = keras.Sequential(\n",
        "    [\n",
        "        keras.Input(shape=input_shape),\n",
        "        layers.Conv2D(32, kernel_size=(3, 3), activation=\"relu\"),\n",
        "        layers.MaxPooling2D(pool_size=(2, 2)),\n",
        "        layers.Conv2D(64, kernel_size=(3, 3), activation=\"relu\"),\n",
        "        layers.MaxPooling2D(pool_size=(2, 2)),\n",
        "        layers.Flatten(),\n",
        "        layers.Dropout(0.5),\n",
        "        layers.Dense(num_classes, activation=\"softmax\"),\n",
        "    ]\n",
        ")\n",
        "\n",
        "model.summary()"
      ]
    },
    {
      "cell_type": "code",
      "execution_count": null,
      "metadata": {
        "colab": {
          "base_uri": "https://localhost:8080/"
        },
        "id": "W7hcGlEbRz59",
        "outputId": "9031cfe8-5096-4b98-b92b-9781e0093da9"
      },
      "outputs": [
        {
          "name": "stdout",
          "output_type": "stream",
          "text": [
            "Epoch 1/15\n",
            "422/422 [==============================] - 11s 6ms/step - loss: 0.3652 - accuracy: 0.8894 - val_loss: 0.0862 - val_accuracy: 0.9750\n",
            "Epoch 2/15\n",
            "422/422 [==============================] - 2s 5ms/step - loss: 0.1141 - accuracy: 0.9647 - val_loss: 0.0586 - val_accuracy: 0.9832\n",
            "Epoch 3/15\n",
            "422/422 [==============================] - 2s 5ms/step - loss: 0.0884 - accuracy: 0.9728 - val_loss: 0.0493 - val_accuracy: 0.9850\n",
            "Epoch 4/15\n",
            "422/422 [==============================] - 2s 5ms/step - loss: 0.0736 - accuracy: 0.9772 - val_loss: 0.0424 - val_accuracy: 0.9895\n",
            "Epoch 5/15\n",
            "422/422 [==============================] - 2s 5ms/step - loss: 0.0635 - accuracy: 0.9801 - val_loss: 0.0388 - val_accuracy: 0.9895\n",
            "Epoch 6/15\n",
            "422/422 [==============================] - 2s 5ms/step - loss: 0.0596 - accuracy: 0.9812 - val_loss: 0.0341 - val_accuracy: 0.9910\n",
            "Epoch 7/15\n",
            "422/422 [==============================] - 2s 5ms/step - loss: 0.0536 - accuracy: 0.9836 - val_loss: 0.0353 - val_accuracy: 0.9907\n",
            "Epoch 8/15\n",
            "422/422 [==============================] - 2s 6ms/step - loss: 0.0488 - accuracy: 0.9842 - val_loss: 0.0335 - val_accuracy: 0.9900\n",
            "Epoch 9/15\n",
            "422/422 [==============================] - 2s 5ms/step - loss: 0.0452 - accuracy: 0.9858 - val_loss: 0.0344 - val_accuracy: 0.9890\n",
            "Epoch 10/15\n",
            "422/422 [==============================] - 2s 5ms/step - loss: 0.0448 - accuracy: 0.9857 - val_loss: 0.0334 - val_accuracy: 0.9900\n",
            "Epoch 11/15\n",
            "422/422 [==============================] - 2s 5ms/step - loss: 0.0396 - accuracy: 0.9874 - val_loss: 0.0340 - val_accuracy: 0.9903\n",
            "Epoch 12/15\n",
            "422/422 [==============================] - 2s 5ms/step - loss: 0.0400 - accuracy: 0.9869 - val_loss: 0.0313 - val_accuracy: 0.9905\n",
            "Epoch 13/15\n",
            "422/422 [==============================] - 2s 5ms/step - loss: 0.0371 - accuracy: 0.9883 - val_loss: 0.0321 - val_accuracy: 0.9905\n",
            "Epoch 14/15\n",
            "422/422 [==============================] - 2s 5ms/step - loss: 0.0351 - accuracy: 0.9882 - val_loss: 0.0302 - val_accuracy: 0.9915\n",
            "Epoch 15/15\n",
            "422/422 [==============================] - 2s 6ms/step - loss: 0.0329 - accuracy: 0.9892 - val_loss: 0.0301 - val_accuracy: 0.9915\n"
          ]
        },
        {
          "data": {
            "text/plain": [
              "<keras.callbacks.History at 0x7f4a17840210>"
            ]
          },
          "execution_count": 2,
          "metadata": {},
          "output_type": "execute_result"
        }
      ],
      "source": [
        "batch_size = 128\n",
        "epochs = 15\n",
        "\n",
        "model.compile(loss=\"categorical_crossentropy\", optimizer=\"adam\", metrics=[\"accuracy\"])\n",
        "\n",
        "model.fit(x_train, y_train, batch_size=batch_size, epochs=epochs, validation_split=0.1)"
      ]
    },
    {
      "cell_type": "code",
      "execution_count": null,
      "metadata": {
        "colab": {
          "base_uri": "https://localhost:8080/"
        },
        "id": "Uj9Ar1rOR5tV",
        "outputId": "d6edba92-d620-4a68-ebe3-71546fcc0aee"
      },
      "outputs": [
        {
          "name": "stdout",
          "output_type": "stream",
          "text": [
            "Test loss: 0.025238974019885063\n",
            "Test accuracy: 0.991100013256073\n"
          ]
        }
      ],
      "source": [
        "score = model.evaluate(x_test, y_test, verbose=0)\n",
        "print(\"Test loss:\", score[0])\n",
        "print(\"Test accuracy:\", score[1])"
      ]
    },
    {
      "cell_type": "markdown",
      "metadata": {
        "id": "vM0oAI2agJmC"
      },
      "source": [
        "# Fully Convolutional Neural Network (MNIST)"
      ]
    },
    {
      "cell_type": "code",
      "execution_count": null,
      "metadata": {
        "colab": {
          "base_uri": "https://localhost:8080/"
        },
        "id": "m2Bb5BncgI87",
        "outputId": "e66cdff7-657b-4b63-8378-8cb93af2ed5b"
      },
      "outputs": [
        {
          "name": "stdout",
          "output_type": "stream",
          "text": [
            "x_train shape: (60000, 28, 28, 1)\n",
            "60000 train samples\n",
            "10000 test samples\n",
            "Model: \"sequential_1\"\n",
            "_________________________________________________________________\n",
            " Layer (type)                Output Shape              Param #   \n",
            "=================================================================\n",
            " conv2d_2 (Conv2D)           (None, 26, 26, 32)        320       \n",
            "                                                                 \n",
            " max_pooling2d_2 (MaxPooling  (None, 13, 13, 32)       0         \n",
            " 2D)                                                             \n",
            "                                                                 \n",
            " conv2d_3 (Conv2D)           (None, 11, 11, 64)        18496     \n",
            "                                                                 \n",
            " max_pooling2d_3 (MaxPooling  (None, 5, 5, 64)         0         \n",
            " 2D)                                                             \n",
            "                                                                 \n",
            " conv2d_4 (Conv2D)           (None, 1, 1, 10)          16010     \n",
            "                                                                 \n",
            " global_average_pooling2d (G  (None, 10)               0         \n",
            " lobalAveragePooling2D)                                          \n",
            "                                                                 \n",
            "=================================================================\n",
            "Total params: 34,826\n",
            "Trainable params: 34,826\n",
            "Non-trainable params: 0\n",
            "_________________________________________________________________\n"
          ]
        }
      ],
      "source": [
        "import numpy as np\n",
        "from tensorflow import keras\n",
        "from tensorflow.keras import layers\n",
        "\n",
        "# Model / data parameters\n",
        "num_classes = 10\n",
        "input_shape = (28, 28, 1)\n",
        "\n",
        "# the data, split between train and test sets\n",
        "(x_train, y_train), (x_test, y_test) = keras.datasets.mnist.load_data()\n",
        "\n",
        "# Scale images to the [0, 1] range\n",
        "x_train = x_train.astype(\"float32\") / 255\n",
        "x_test = x_test.astype(\"float32\") / 255\n",
        "# Make sure images have shape (28, 28, 1)\n",
        "x_train = np.expand_dims(x_train, -1)\n",
        "x_test = np.expand_dims(x_test, -1)\n",
        "print(\"x_train shape:\", x_train.shape)\n",
        "print(x_train.shape[0], \"train samples\")\n",
        "print(x_test.shape[0], \"test samples\")\n",
        "\n",
        "\n",
        "# convert class vectors to binary class matrices\n",
        "y_train = keras.utils.to_categorical(y_train, num_classes)\n",
        "y_test = keras.utils.to_categorical(y_test, num_classes)\n",
        "\n",
        "\n",
        "model = keras.Sequential(\n",
        "    [\n",
        "        keras.Input(shape=input_shape),\n",
        "        layers.Conv2D(32, kernel_size=(3, 3), activation=\"relu\"),\n",
        "        layers.MaxPooling2D(pool_size=(2, 2)),\n",
        "        layers.Conv2D(64, kernel_size=(3, 3), activation=\"relu\"),\n",
        "        layers.MaxPooling2D(pool_size=(2, 2)),\n",
        "        layers.Conv2D(num_classes, kernel_size=(5, 5), activation=\"softmax\"),\n",
        "        layers.GlobalAveragePooling2D(),\n",
        "    ]\n",
        ")\n",
        "\n",
        "model.summary()"
      ]
    },
    {
      "cell_type": "code",
      "execution_count": null,
      "metadata": {
        "colab": {
          "background_save": true,
          "base_uri": "https://localhost:8080/"
        },
        "id": "WK0qoY4MVHxS",
        "outputId": "b59a52aa-3632-4a03-f592-4d867300dd0b"
      },
      "outputs": [
        {
          "name": "stdout",
          "output_type": "stream",
          "text": [
            "Epoch 1/50\n",
            "422/422 [==============================] - 3s 6ms/step - loss: 0.2857 - accuracy: 0.9206 - val_loss: 0.0885 - val_accuracy: 0.9740\n",
            "Epoch 2/50\n",
            "422/422 [==============================] - 3s 6ms/step - loss: 0.0804 - accuracy: 0.9755 - val_loss: 0.0545 - val_accuracy: 0.9845\n",
            "Epoch 3/50\n",
            "422/422 [==============================] - 2s 6ms/step - loss: 0.0604 - accuracy: 0.9814 - val_loss: 0.0484 - val_accuracy: 0.9852\n",
            "Epoch 4/50\n",
            "422/422 [==============================] - 2s 6ms/step - loss: 0.0493 - accuracy: 0.9850 - val_loss: 0.0465 - val_accuracy: 0.9862\n",
            "Epoch 5/50\n",
            "422/422 [==============================] - 2s 6ms/step - loss: 0.0423 - accuracy: 0.9869 - val_loss: 0.0414 - val_accuracy: 0.9885\n",
            "Epoch 6/50\n",
            "422/422 [==============================] - 2s 6ms/step - loss: 0.0351 - accuracy: 0.9893 - val_loss: 0.0408 - val_accuracy: 0.9872\n",
            "Epoch 7/50\n",
            "422/422 [==============================] - 2s 6ms/step - loss: 0.0305 - accuracy: 0.9903 - val_loss: 0.0433 - val_accuracy: 0.9860\n",
            "Epoch 8/50\n",
            "422/422 [==============================] - 2s 6ms/step - loss: 0.0272 - accuracy: 0.9915 - val_loss: 0.0395 - val_accuracy: 0.9888\n",
            "Epoch 9/50\n",
            "422/422 [==============================] - 2s 6ms/step - loss: 0.0231 - accuracy: 0.9929 - val_loss: 0.0365 - val_accuracy: 0.9883\n",
            "Epoch 10/50\n",
            "422/422 [==============================] - 2s 6ms/step - loss: 0.0203 - accuracy: 0.9936 - val_loss: 0.0368 - val_accuracy: 0.9892\n",
            "Epoch 11/50\n",
            "422/422 [==============================] - 2s 6ms/step - loss: 0.0176 - accuracy: 0.9944 - val_loss: 0.0342 - val_accuracy: 0.9902\n",
            "Epoch 12/50\n",
            "422/422 [==============================] - 2s 6ms/step - loss: 0.0157 - accuracy: 0.9949 - val_loss: 0.0373 - val_accuracy: 0.9885\n",
            "Epoch 13/50\n",
            "422/422 [==============================] - 2s 6ms/step - loss: 0.0132 - accuracy: 0.9956 - val_loss: 0.0372 - val_accuracy: 0.9902\n",
            "Epoch 14/50\n",
            "422/422 [==============================] - 2s 6ms/step - loss: 0.0124 - accuracy: 0.9960 - val_loss: 0.0340 - val_accuracy: 0.9910\n",
            "Epoch 15/50\n",
            "422/422 [==============================] - 2s 6ms/step - loss: 0.0100 - accuracy: 0.9967 - val_loss: 0.0453 - val_accuracy: 0.9873\n",
            "Epoch 16/50\n",
            "422/422 [==============================] - 2s 6ms/step - loss: 0.0090 - accuracy: 0.9971 - val_loss: 0.0452 - val_accuracy: 0.9892\n",
            "Epoch 17/50\n",
            "422/422 [==============================] - 2s 6ms/step - loss: 0.0082 - accuracy: 0.9974 - val_loss: 0.0454 - val_accuracy: 0.9900\n",
            "Epoch 18/50\n",
            "422/422 [==============================] - 2s 6ms/step - loss: 0.0077 - accuracy: 0.9975 - val_loss: 0.0428 - val_accuracy: 0.9900\n",
            "Epoch 19/50\n",
            "422/422 [==============================] - 2s 6ms/step - loss: 0.0064 - accuracy: 0.9979 - val_loss: 0.0420 - val_accuracy: 0.9910\n",
            "Epoch 20/50\n",
            "422/422 [==============================] - 2s 6ms/step - loss: 0.0060 - accuracy: 0.9981 - val_loss: 0.0485 - val_accuracy: 0.9888\n",
            "Epoch 21/50\n",
            "422/422 [==============================] - 2s 6ms/step - loss: 0.0046 - accuracy: 0.9985 - val_loss: 0.0447 - val_accuracy: 0.9898\n",
            "Epoch 22/50\n",
            "422/422 [==============================] - 2s 6ms/step - loss: 0.0037 - accuracy: 0.9989 - val_loss: 0.0500 - val_accuracy: 0.9895\n",
            "Epoch 23/50\n",
            "422/422 [==============================] - 2s 6ms/step - loss: 0.0035 - accuracy: 0.9990 - val_loss: 0.0496 - val_accuracy: 0.9902\n",
            "Epoch 24/50\n",
            "422/422 [==============================] - 2s 6ms/step - loss: 0.0077 - accuracy: 0.9972 - val_loss: 0.0462 - val_accuracy: 0.9907\n",
            "Epoch 25/50\n",
            "422/422 [==============================] - 2s 6ms/step - loss: 0.0039 - accuracy: 0.9988 - val_loss: 0.0519 - val_accuracy: 0.9897\n",
            "Epoch 26/50\n",
            "422/422 [==============================] - 2s 6ms/step - loss: 0.0012 - accuracy: 0.9997 - val_loss: 0.0483 - val_accuracy: 0.9902\n",
            "Epoch 27/50\n",
            "422/422 [==============================] - 2s 6ms/step - loss: 0.0013 - accuracy: 0.9996 - val_loss: 0.0597 - val_accuracy: 0.9892\n",
            "Epoch 28/50\n",
            "422/422 [==============================] - 2s 6ms/step - loss: 0.0056 - accuracy: 0.9980 - val_loss: 0.0524 - val_accuracy: 0.9905\n",
            "Epoch 29/50\n",
            "422/422 [==============================] - 2s 6ms/step - loss: 0.0047 - accuracy: 0.9984 - val_loss: 0.0498 - val_accuracy: 0.9893\n",
            "Epoch 30/50\n",
            "422/422 [==============================] - 2s 6ms/step - loss: 0.0032 - accuracy: 0.9989 - val_loss: 0.0493 - val_accuracy: 0.9907\n",
            "Epoch 31/50\n",
            "422/422 [==============================] - 2s 6ms/step - loss: 0.0013 - accuracy: 0.9997 - val_loss: 0.0466 - val_accuracy: 0.9903\n",
            "Epoch 32/50\n",
            "422/422 [==============================] - 2s 6ms/step - loss: 7.8467e-04 - accuracy: 0.9998 - val_loss: 0.0506 - val_accuracy: 0.9900\n",
            "Epoch 33/50\n",
            "422/422 [==============================] - 2s 6ms/step - loss: 9.6811e-04 - accuracy: 0.9998 - val_loss: 0.0519 - val_accuracy: 0.9898\n",
            "Epoch 34/50\n",
            "422/422 [==============================] - 2s 6ms/step - loss: 0.0074 - accuracy: 0.9975 - val_loss: 0.0517 - val_accuracy: 0.9907\n",
            "Epoch 35/50\n",
            "422/422 [==============================] - 2s 6ms/step - loss: 0.0024 - accuracy: 0.9993 - val_loss: 0.0507 - val_accuracy: 0.9910\n",
            "Epoch 36/50\n",
            "422/422 [==============================] - 2s 6ms/step - loss: 6.3049e-04 - accuracy: 0.9999 - val_loss: 0.0513 - val_accuracy: 0.9910\n",
            "Epoch 37/50\n",
            "422/422 [==============================] - 2s 6ms/step - loss: 2.8982e-04 - accuracy: 1.0000 - val_loss: 0.0478 - val_accuracy: 0.9910\n",
            "Epoch 38/50\n",
            "422/422 [==============================] - 2s 6ms/step - loss: 1.2819e-04 - accuracy: 1.0000 - val_loss: 0.0507 - val_accuracy: 0.9913\n",
            "Epoch 39/50\n",
            "422/422 [==============================] - 2s 6ms/step - loss: 6.7452e-05 - accuracy: 1.0000 - val_loss: 0.0512 - val_accuracy: 0.9912\n",
            "Epoch 40/50\n",
            "422/422 [==============================] - 2s 6ms/step - loss: 5.4108e-05 - accuracy: 1.0000 - val_loss: 0.0523 - val_accuracy: 0.9915\n",
            "Epoch 41/50\n",
            "422/422 [==============================] - 2s 6ms/step - loss: 4.2256e-05 - accuracy: 1.0000 - val_loss: 0.0530 - val_accuracy: 0.9912\n",
            "Epoch 42/50\n",
            "422/422 [==============================] - 2s 6ms/step - loss: 3.4941e-05 - accuracy: 1.0000 - val_loss: 0.0540 - val_accuracy: 0.9912\n",
            "Epoch 43/50\n",
            "422/422 [==============================] - 2s 6ms/step - loss: 2.8529e-05 - accuracy: 1.0000 - val_loss: 0.0551 - val_accuracy: 0.9910\n",
            "Epoch 44/50\n",
            "422/422 [==============================] - 2s 6ms/step - loss: 2.8925e-05 - accuracy: 1.0000 - val_loss: 0.0561 - val_accuracy: 0.9912\n",
            "Epoch 45/50\n",
            "422/422 [==============================] - 2s 6ms/step - loss: 2.2748e-05 - accuracy: 1.0000 - val_loss: 0.0577 - val_accuracy: 0.9910\n",
            "Epoch 46/50\n",
            "422/422 [==============================] - 2s 6ms/step - loss: 1.7268e-05 - accuracy: 1.0000 - val_loss: 0.0573 - val_accuracy: 0.9912\n",
            "Epoch 47/50\n",
            "422/422 [==============================] - 2s 6ms/step - loss: 1.4295e-05 - accuracy: 1.0000 - val_loss: 0.0588 - val_accuracy: 0.9908\n",
            "Epoch 48/50\n",
            "422/422 [==============================] - 2s 6ms/step - loss: 1.1825e-05 - accuracy: 1.0000 - val_loss: 0.0586 - val_accuracy: 0.9912\n",
            "Epoch 49/50\n",
            "422/422 [==============================] - 2s 6ms/step - loss: 1.0055e-05 - accuracy: 1.0000 - val_loss: 0.0604 - val_accuracy: 0.9912\n",
            "Epoch 50/50\n",
            "422/422 [==============================] - 2s 6ms/step - loss: 8.3707e-06 - accuracy: 1.0000 - val_loss: 0.0611 - val_accuracy: 0.9910\n"
          ]
        },
        {
          "data": {
            "text/plain": [
              "<keras.callbacks.History at 0x7f49b40acc90>"
            ]
          },
          "execution_count": 5,
          "metadata": {},
          "output_type": "execute_result"
        }
      ],
      "source": [
        "batch_size = 128\n",
        "epochs = 50\n",
        "\n",
        "model.compile(loss=\"categorical_crossentropy\", optimizer=\"adam\", metrics=[\"accuracy\"])\n",
        "\n",
        "model.fit(x_train, y_train, batch_size=batch_size, epochs=epochs, validation_split=0.1)"
      ]
    },
    {
      "cell_type": "code",
      "execution_count": null,
      "metadata": {
        "colab": {
          "background_save": true
        },
        "id": "J4fBsqbphmB1",
        "outputId": "98156f9d-222f-4bff-8612-2e931aa2e0f8"
      },
      "outputs": [
        {
          "name": "stdout",
          "output_type": "stream",
          "text": [
            "Test loss: 0.05650913715362549\n",
            "Test accuracy: 0.9911999702453613\n"
          ]
        }
      ],
      "source": [
        "score = model.evaluate(x_test, y_test, verbose=0)\n",
        "print(\"Test loss:\", score[0])\n",
        "print(\"Test accuracy:\", score[1])"
      ]
    }
  ],
  "metadata": {
    "accelerator": "GPU",
    "colab": {
      "collapsed_sections": [],
      "provenance": []
    },
    "kernelspec": {
      "display_name": "Python 3",
      "name": "python3"
    }
  },
  "nbformat": 4,
  "nbformat_minor": 0
}