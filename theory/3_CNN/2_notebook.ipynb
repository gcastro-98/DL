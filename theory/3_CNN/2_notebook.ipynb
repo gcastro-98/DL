{
  "cells": [
    {
      "cell_type": "markdown",
      "metadata": {
        "id": "xe8TY6MKjhYs"
      },
      "source": [
        "## Imports"
      ]
    },
    {
      "cell_type": "code",
      "execution_count": null,
      "metadata": {
        "id": "D2UmYeVgjhYt"
      },
      "outputs": [],
      "source": [
        "import tensorflow as tf\n",
        "import tensorflow.keras.models as kmod\n",
        "import tensorflow.keras.layers as klay\n",
        "import tensorflow.keras.utils as kutils\n",
        "import numpy as np\n",
        "import sklearn.ensemble\n",
        "import sklearn.preprocessing\n",
        "import pandas as pd\n",
        "import seaborn as sns\n",
        "import matplotlib.pyplot as plt"
      ]
    },
    {
      "cell_type": "markdown",
      "metadata": {
        "id": "K6_PPkBtjhYv"
      },
      "source": [
        "## Load Data"
      ]
    },
    {
      "cell_type": "code",
      "execution_count": null,
      "metadata": {
        "colab": {
          "base_uri": "https://localhost:8080/"
        },
        "id": "u-i9jiecjhYv",
        "outputId": "f939a9d7-04a3-4ec3-e749-d3a46c26816e"
      },
      "outputs": [
        {
          "output_type": "stream",
          "name": "stdout",
          "text": [
            "Downloading data from https://storage.googleapis.com/tensorflow/tf-keras-datasets/mnist.npz\n",
            "11490434/11490434 [==============================] - 0s 0us/step\n"
          ]
        }
      ],
      "source": [
        "(x_train, y_train), (x_test, y_test) = tf.keras.datasets.mnist.load_data()\n",
        "\n",
        "# Min-Max Scaling\n",
        "train_min = np.min(x_train, axis=(1, 2))[:, np.newaxis, np.newaxis]\n",
        "train_max = np.max(x_train, axis=(1, 2))[:, np.newaxis, np.newaxis]\n",
        "x_train = (x_train - train_min) / (train_max - train_min)\n",
        "test_min = np.min(x_test, axis=(1, 2))[:, np.newaxis, np.newaxis]\n",
        "test_max = np.max(x_test, axis=(1, 2))[:, np.newaxis, np.newaxis]\n",
        "x_test = (x_test - test_min) / (test_max - test_min)\n",
        "\n",
        "# Transform labels\n",
        "y_train_cat = kutils.to_categorical(y_train)\n",
        "y_test_cat = kutils.to_categorical(y_test)\n",
        "\n",
        "# Transform input to be 4D\n",
        "x_train = x_train[..., None]\n",
        "x_test = x_test[..., None]"
      ]
    },
    {
      "cell_type": "markdown",
      "metadata": {
        "id": "nzq5gM-MjhYw"
      },
      "source": [
        "## Conventional DCNN with Training\n"
      ]
    },
    {
      "cell_type": "code",
      "execution_count": null,
      "metadata": {
        "colab": {
          "base_uri": "https://localhost:8080/"
        },
        "id": "B-ElJYmzjhYw",
        "outputId": "26501a0b-f193-4169-d9d0-10a21e8c4bb2"
      },
      "outputs": [
        {
          "output_type": "stream",
          "name": "stdout",
          "text": [
            "Epoch 1/5\n",
            "1875/1875 - 18s - loss: 0.1902 - accuracy: 0.9413 - val_loss: 0.0572 - val_accuracy: 0.9810 - 18s/epoch - 10ms/step\n",
            "Epoch 2/5\n",
            "1875/1875 - 6s - loss: 0.0575 - accuracy: 0.9820 - val_loss: 0.0430 - val_accuracy: 0.9861 - 6s/epoch - 3ms/step\n",
            "Epoch 3/5\n",
            "1875/1875 - 6s - loss: 0.0421 - accuracy: 0.9872 - val_loss: 0.0389 - val_accuracy: 0.9863 - 6s/epoch - 3ms/step\n",
            "Epoch 4/5\n",
            "1875/1875 - 6s - loss: 0.0343 - accuracy: 0.9891 - val_loss: 0.0294 - val_accuracy: 0.9901 - 6s/epoch - 3ms/step\n",
            "Epoch 5/5\n",
            "1875/1875 - 6s - loss: 0.0267 - accuracy: 0.9916 - val_loss: 0.0356 - val_accuracy: 0.9880 - 6s/epoch - 3ms/step\n"
          ]
        },
        {
          "output_type": "execute_result",
          "data": {
            "text/plain": [
              "<keras.callbacks.History at 0x7f0a00111c10>"
            ]
          },
          "metadata": {},
          "execution_count": 3
        }
      ],
      "source": [
        "# create model\n",
        "model = kmod.Sequential()\n",
        "\n",
        "# add model layers\n",
        "model.add(klay.Conv2D(\n",
        "    filters=32, kernel_size=3, activation='relu', \n",
        "    input_shape=x_train.shape[1:]))\n",
        "model.add(klay.MaxPool2D())\n",
        "model.add(klay.Conv2D(\n",
        "    filters=32, kernel_size=3, activation='relu', \n",
        "    kernel_initializer=\"glorot_uniform\"))\n",
        "model.add(klay.MaxPool2D())\n",
        "model.add(klay.Conv2D(\n",
        "    filters=32, kernel_size=3, activation='relu', \n",
        "    kernel_initializer=\"glorot_uniform\"))\n",
        "model.add(klay.Flatten())\n",
        "model.add(klay.Dense(\n",
        "    units=10, activation='softmax', \n",
        "    kernel_initializer=\"glorot_uniform\"))\n",
        "\n",
        "# compile model\n",
        "model.compile(optimizer='adam', loss='categorical_crossentropy', metrics=['accuracy'])\n",
        "model.fit(x_train, y_train_cat, validation_data=(x_test, y_test_cat), epochs=5, verbose=2)"
      ]
    },
    {
      "cell_type": "code",
      "execution_count": null,
      "metadata": {
        "colab": {
          "base_uri": "https://localhost:8080/"
        },
        "id": "AryOdJ8nGJtO",
        "outputId": "08625590-e51e-4784-bca1-c4cab191dd1c"
      },
      "outputs": [
        {
          "output_type": "stream",
          "name": "stdout",
          "text": [
            "Model: \"sequential\"\n",
            "_________________________________________________________________\n",
            " Layer (type)                Output Shape              Param #   \n",
            "=================================================================\n",
            " conv2d (Conv2D)             (None, 26, 26, 32)        320       \n",
            "                                                                 \n",
            " max_pooling2d (MaxPooling2D  (None, 13, 13, 32)       0         \n",
            " )                                                               \n",
            "                                                                 \n",
            " conv2d_1 (Conv2D)           (None, 11, 11, 32)        9248      \n",
            "                                                                 \n",
            " max_pooling2d_1 (MaxPooling  (None, 5, 5, 32)         0         \n",
            " 2D)                                                             \n",
            "                                                                 \n",
            " conv2d_2 (Conv2D)           (None, 3, 3, 32)          9248      \n",
            "                                                                 \n",
            " flatten (Flatten)           (None, 288)               0         \n",
            "                                                                 \n",
            " dense (Dense)               (None, 10)                2890      \n",
            "                                                                 \n",
            "=================================================================\n",
            "Total params: 21,706\n",
            "Trainable params: 21,706\n",
            "Non-trainable params: 0\n",
            "_________________________________________________________________\n"
          ]
        }
      ],
      "source": [
        "model.summary()"
      ]
    },
    {
      "cell_type": "code",
      "execution_count": null,
      "metadata": {
        "colab": {
          "base_uri": "https://localhost:8080/"
        },
        "id": "aFTV8LeKjhYx",
        "outputId": "3b71f413-0dc2-41d1-e2fe-3837a6f7bdf6"
      },
      "outputs": [
        {
          "output_type": "stream",
          "name": "stdout",
          "text": [
            "Trained CNN Accuracy = 98.8%\n"
          ]
        }
      ],
      "source": [
        "cnn_acc = model.evaluate(x=x_test, y=y_test_cat, verbose=False)\n",
        "print(\"Trained CNN Accuracy = {}%\".format(np.round(cnn_acc[1]*100, 2)))"
      ]
    },
    {
      "cell_type": "markdown",
      "metadata": {
        "id": "qgNT3veijhYy"
      },
      "source": [
        "## Extracting Features with Random Network Weights\n",
        "In this second step, only the final classification layer is trained. All hidden layers are randomly initialized and kept that way. This network will be trained and evaluated several times to identify the stability of these random-weight features."
      ]
    },
    {
      "cell_type": "code",
      "execution_count": null,
      "metadata": {
        "id": "kRJndZHyjhYz"
      },
      "outputs": [],
      "source": [
        "random_feature_accuracies = []\n",
        "random_feature_models = []\n",
        "\n",
        "for ii in range(10):\n",
        "    # create model\n",
        "    model = kmod.Sequential()\n",
        "\n",
        "    # add model layers\n",
        "    model.add(klay.Conv2D(\n",
        "        filters=32, kernel_size=3, activation='relu', \n",
        "        input_shape=x_train.shape[1:], \n",
        "        trainable=False))\n",
        "    model.add(klay.MaxPool2D(trainable=False))\n",
        "    model.add(klay.Conv2D(\n",
        "        filters=32, kernel_size=3, activation='relu', \n",
        "        kernel_initializer=\"glorot_uniform\", \n",
        "        trainable=False))\n",
        "    model.add(klay.MaxPool2D(trainable=False))\n",
        "    model.add(klay.Conv2D(\n",
        "        filters=32, kernel_size=3, activation='relu', \n",
        "        kernel_initializer=\"glorot_uniform\", \n",
        "        trainable=False))\n",
        "    model.add(klay.Flatten(trainable=False))\n",
        "    model.add(klay.Dense(\n",
        "        units=10, activation='softmax', \n",
        "        kernel_initializer=\"glorot_uniform\"))\n",
        "\n",
        "    # compile model\n",
        "    model.compile(optimizer='adam', loss='categorical_crossentropy', metrics=['accuracy'])\n",
        "    model.fit(x_train, y_train_cat, validation_data=(x_test, y_test_cat), epochs=5, verbose=0)\n",
        "    random_feature_accuracies.append(model.evaluate(x=x_test, y=y_test_cat, verbose=0)[1])\n",
        "    random_feature_models.append(model)"
      ]
    },
    {
      "cell_type": "code",
      "execution_count": null,
      "metadata": {
        "colab": {
          "base_uri": "https://localhost:8080/"
        },
        "id": "SwtMYoKKF7ZD",
        "outputId": "a25f3a1e-95eb-42b3-96d4-db7496009018"
      },
      "outputs": [
        {
          "output_type": "stream",
          "name": "stdout",
          "text": [
            "Model: \"sequential_10\"\n",
            "_________________________________________________________________\n",
            " Layer (type)                Output Shape              Param #   \n",
            "=================================================================\n",
            " conv2d_30 (Conv2D)          (None, 26, 26, 32)        320       \n",
            "                                                                 \n",
            " max_pooling2d_20 (MaxPoolin  (None, 13, 13, 32)       0         \n",
            " g2D)                                                            \n",
            "                                                                 \n",
            " conv2d_31 (Conv2D)          (None, 11, 11, 32)        9248      \n",
            "                                                                 \n",
            " max_pooling2d_21 (MaxPoolin  (None, 5, 5, 32)         0         \n",
            " g2D)                                                            \n",
            "                                                                 \n",
            " conv2d_32 (Conv2D)          (None, 3, 3, 32)          9248      \n",
            "                                                                 \n",
            " flatten_10 (Flatten)        (None, 288)               0         \n",
            "                                                                 \n",
            " dense_10 (Dense)            (None, 10)                2890      \n",
            "                                                                 \n",
            "=================================================================\n",
            "Total params: 21,706\n",
            "Trainable params: 2,890\n",
            "Non-trainable params: 18,816\n",
            "_________________________________________________________________\n"
          ]
        }
      ],
      "source": [
        "model.summary()"
      ]
    },
    {
      "cell_type": "markdown",
      "metadata": {
        "id": "9oHY7qx0jhYz"
      },
      "source": [
        "The accuracy of the partially trained DCNN is slightly worse than that of the fully trained network but very stable across iterations."
      ]
    },
    {
      "cell_type": "code",
      "execution_count": null,
      "metadata": {
        "colab": {
          "base_uri": "https://localhost:8080/"
        },
        "id": "Y1Obs9-_jhY0",
        "outputId": "c1b67a5d-c8d8-4590-a7c0-00dbbb3a8344"
      },
      "outputs": [
        {
          "output_type": "stream",
          "name": "stdout",
          "text": [
            "Random Feature Accuracy = (90.93 +/- 1.33)%\n"
          ]
        }
      ],
      "source": [
        "print(\"Random Feature Accuracy = ({} +/- {})%\".format(\n",
        "    np.round(np.mean(random_feature_accuracies)*100, 2), \n",
        "    np.round(np.std(random_feature_accuracies)*100, 2)))"
      ]
    },
    {
      "cell_type": "code",
      "execution_count": null,
      "metadata": {
        "colab": {
          "base_uri": "https://localhost:8080/",
          "height": 369
        },
        "id": "KqZ62CYPjhY0",
        "outputId": "b53e1637-74bc-4ba8-b929-2dd56b405954"
      },
      "outputs": [
        {
          "output_type": "display_data",
          "data": {
            "text/plain": [
              "<Figure size 360x360 with 1 Axes>"
            ],
            "image/png": "[encoded data removed]"
          },
          "metadata": {
            "needs_background": "light"
          }
        }
      ],
      "source": [
        "random_feature_accuracies_df = pd.DataFrame({\n",
        "    \"Iteration\": range(10), \n",
        "    \"Accuracy\": random_feature_accuracies})\n",
        "myFigure = sns.catplot(\n",
        "    x=\"Iteration\", y=\"Accuracy\", data=random_feature_accuracies_df, \n",
        "    kind=\"bar\", color=\"skyblue\");\n",
        "myFigure.ax.yaxis.set_major_formatter(\n",
        "    plt.FuncFormatter(lambda num, tick_num: \"{:.0f}%\".format(num*100)))"
      ]
    },
    {
      "cell_type": "markdown",
      "metadata": {
        "id": "_y9NgPyIjhY0"
      },
      "source": [
        "### Alternative Classifiers\n",
        "The single-layer classification step is relatively simple. We can also look at what happens if we classify the random-weight features, extracted from the second-to-last layer of the DCNN above, with a more sophisticated method such as a random forest."
      ]
    },
    {
      "cell_type": "code",
      "execution_count": null,
      "metadata": {
        "colab": {
          "background_save": true,
          "base_uri": "https://localhost:8080/"
        },
        "id": "A8xZgglzjhY1",
        "outputId": "a6294378-b05b-4080-809c-dd7061bf5b5e"
      },
      "outputs": [
        {
          "output_type": "stream",
          "name": "stdout",
          "text": [
            "1875/1875 [==============================] - 3s 2ms/step\n",
            "313/313 [==============================] - 1s 2ms/step\n",
            "1875/1875 [==============================] - 3s 2ms/step\n",
            "313/313 [==============================] - 1s 2ms/step\n"
          ]
        }
      ],
      "source": [
        "random_features = []\n",
        "random_feature_forest_accs = []\n",
        "\n",
        "for model in random_feature_models:\n",
        "    # Extract features from submodel\n",
        "    submodel = kmod.Sequential(layers=model.layers[:-1])\n",
        "    features_train = submodel.predict(x_train)\n",
        "    features_test = submodel.predict(x_test)\n",
        "    random_features.append([features_train, features_test])\n",
        "    \n",
        "    # Random forest model\n",
        "    rf = sklearn.ensemble.RandomForestClassifier(n_estimators=100)\n",
        "    rf.fit(X=features_train, y=y_train)\n",
        "    random_feature_forest_accs.append(rf.score(X=features_test, y=y_test))"
      ]
    },
    {
      "cell_type": "markdown",
      "metadata": {
        "id": "AxpcQnNZjhY1"
      },
      "source": [
        "A random forest evaluated on the test data exhibits a high accuracy across all iterations."
      ]
    },
    {
      "cell_type": "code",
      "execution_count": null,
      "metadata": {
        "colab": {
          "background_save": true
        },
        "id": "Zm0Aa4MNjhY1"
      },
      "outputs": [],
      "source": [
        "print(\"Random Forest Accuracy on Random-Weight Features = ({} +/- {})%\".format(\n",
        "    np.round(np.mean(random_feature_forest_accs)*100, 2), \n",
        "    np.round(np.std(random_feature_forest_accs)*100, 2)))"
      ]
    },
    {
      "cell_type": "code",
      "execution_count": null,
      "metadata": {
        "colab": {
          "background_save": true
        },
        "id": "fNs7lH4sjhY1"
      },
      "outputs": [],
      "source": [
        "random_feature_forest_accs_df = pd.DataFrame({\n",
        "    \"Iteration\": range(10), \n",
        "    \"Accuracy\": random_feature_forest_accs})\n",
        "myFigure = sns.catplot(\n",
        "    x=\"Iteration\", y=\"Accuracy\", data=random_feature_forest_accs_df, \n",
        "    kind=\"bar\", color=\"skyblue\");\n",
        "myFigure.ax.yaxis.set_major_formatter(\n",
        "    plt.FuncFormatter(lambda num, tick_num: \"{:.0f}%\".format(num*100)))"
      ]
    },
    {
      "cell_type": "markdown",
      "metadata": {
        "id": "8pX_r7pRjhY2"
      },
      "source": [
        "#### Unsupervised Clustering\n",
        "Unsupervised clustering of the mean features shows a very clear separation of the individual classes. For this clustering, I used [t-Distributed Stochastic Neighbor Embedding (t-SNE)](https://en.wikipedia.org/wiki/T-distributed_stochastic_neighbor_embedding)."
      ]
    },
    {
      "cell_type": "code",
      "execution_count": null,
      "metadata": {
        "colab": {
          "background_save": true
        },
        "id": "8RpMB6vHjhY2"
      },
      "outputs": [],
      "source": [
        "# Average test features over all iterations\n",
        "all_test_features = np.mean(np.stack([s[1] for s in random_features]), axis=0)\n",
        "all_train_features = np.mean(np.stack([s[0] for s in random_features]), axis=0)"
      ]
    },
    {
      "cell_type": "code",
      "execution_count": null,
      "metadata": {
        "colab": {
          "background_save": true
        },
        "id": "1W6hjfsXjhY2"
      },
      "outputs": [],
      "source": [
        "# Compute t-SNE\n",
        "import sklearn.manifold\n",
        "tsne_features = sklearn.manifold.TSNE().fit_transform(X=all_test_features)\n",
        "tsne_features = pd.DataFrame(tsne_features, columns=(\"X\", \"Y\"))\n",
        "tsne_features[\"Label\"] = y_test\n",
        "tsne_features[\"Label\"] = tsne_features[\"Label\"].astype(\"str\")"
      ]
    },
    {
      "cell_type": "code",
      "execution_count": null,
      "metadata": {
        "colab": {
          "background_save": true
        },
        "id": "isRF-fsnjhY2"
      },
      "outputs": [],
      "source": [
        "sns.relplot(\n",
        "    data=tsne_features, x=\"X\", y=\"Y\", hue=\"Label\",\n",
        "    palette=sns.color_palette(palette=\"bright\", n_colors=10))"
      ]
    },
    {
      "cell_type": "markdown",
      "metadata": {
        "id": "GUKyHQ74jhY3"
      },
      "source": [
        "## Conclusion\n",
        "We have shown that initializing a neural network with random weights and subsequently training only the final output layer sufficiently classifies the MNIST handwritten digits. \n",
        "\n",
        "Simply training the final layer results in accuracies of $\\sim 90\\%$, far greater than what would be expected of random guessing ($\\sim 10\\%$), while a non-parametric, random forest classifier trained on the random-weight features will exhibit nearly equivalent accuracy as the fully trained DCNN ($\\sim 95\\%$) while requiring only a fraction of the training time.\n",
        "\n",
        "These results indicate that the MNIST dataset is too trivial to serve as a benchmark dataset. "
      ]
    }
  ],
  "metadata": {
    "accelerator": "GPU",
    "colab": {
      "collapsed_sections": [],
      "provenance": []
    },
    "kernelspec": {
      "display_name": "Python 3",
      "language": "python",
      "name": "python3"
    },
    "language_info": {
      "codemirror_mode": {
        "name": "ipython",
        "version": 3
      },
      "file_extension": ".py",
      "mimetype": "text/x-python",
      "name": "python",
      "nbconvert_exporter": "python",
      "pygments_lexer": "ipython3",
      "version": "3.7.3"
    }
  },
  "nbformat": 4,
  "nbformat_minor": 0
}